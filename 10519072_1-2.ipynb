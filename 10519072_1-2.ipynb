{
 "cells": [
  {
   "cell_type": "code",
   "execution_count": 1,
   "metadata": {},
   "outputs": [
    {
     "name": "stdout",
     "output_type": "stream",
     "text": [
      "11\n"
     ]
    }
   ],
   "source": [
    "x = 5\n",
    "y = 6\n",
    "z = x+y\n",
    "print (z)"
   ]
  },
  {
   "cell_type": "code",
   "execution_count": 2,
   "metadata": {},
   "outputs": [
    {
     "name": "stdout",
     "output_type": "stream",
     "text": [
      "AniZahra\n"
     ]
    }
   ],
   "source": [
    "x = \"Ani\"\n",
    "y = \"Zahra\"\n",
    "z = x+y\n",
    "print (z)"
   ]
  },
  {
   "cell_type": "code",
   "execution_count": 3,
   "metadata": {},
   "outputs": [
    {
     "name": "stdout",
     "output_type": "stream",
     "text": [
      "5\n",
      "6\n",
      "56\n"
     ]
    }
   ],
   "source": [
    "x = input()\n",
    "y = input()\n",
    "z = x+y\n",
    "print (z)"
   ]
  },
  {
   "cell_type": "code",
   "execution_count": 4,
   "metadata": {},
   "outputs": [
    {
     "name": "stdout",
     "output_type": "stream",
     "text": [
      "5\n",
      "6\n",
      "11\n"
     ]
    }
   ],
   "source": [
    "x = int (input())\n",
    "y = int (input())\n",
    "z = x+y\n",
    "print (z)"
   ]
  },
  {
   "cell_type": "code",
   "execution_count": 5,
   "metadata": {},
   "outputs": [
    {
     "name": "stdout",
     "output_type": "stream",
     "text": [
      "Ayah Ibu\n",
      "Ayah Ibu\n",
      "Ayah Ibu\n",
      "Ayah Ibu\n",
      "Ayah Ibu\n",
      "Ayah Ibu\n",
      "Ayah Ibu\n",
      "Ayah Ibu\n",
      "Ayah Ibu\n",
      "Ayah Ibu\n"
     ]
    }
   ],
   "source": [
    "for x in range(10): print('Ayah Ibu')"
   ]
  },
  {
   "cell_type": "code",
   "execution_count": 6,
   "metadata": {},
   "outputs": [
    {
     "name": "stdout",
     "output_type": "stream",
     "text": [
      "x= 10\n",
      "x= 11\n",
      "x= 12\n",
      "x= 13\n",
      "x= 14\n",
      "x= 15\n",
      "x= 16\n",
      "x= 17\n",
      "x= 18\n",
      "x= 19\n"
     ]
    }
   ],
   "source": [
    "for x in range(10, 20): print('x=',x)"
   ]
  },
  {
   "cell_type": "code",
   "execution_count": 7,
   "metadata": {},
   "outputs": [
    {
     "name": "stdout",
     "output_type": "stream",
     "text": [
      "1\n",
      "2\n",
      "3\n",
      "4\n",
      "5\n",
      "6\n",
      "7\n",
      "8\n",
      "9\n",
      "10\n"
     ]
    }
   ],
   "source": [
    "i=1\n",
    "while i< 11:\n",
    "    print (i)\n",
    "    i+=1"
   ]
  },
  {
   "cell_type": "code",
   "execution_count": 8,
   "metadata": {},
   "outputs": [
    {
     "name": "stdout",
     "output_type": "stream",
     "text": [
      "1\n",
      "2\n",
      "3\n",
      "4\n",
      "5\n",
      "6\n",
      "7\n",
      "8\n",
      "9\n",
      "10\n"
     ]
    }
   ],
   "source": [
    "i=1\n",
    "while i<=10:\n",
    "    print(i)\n",
    "    i+=1"
   ]
  },
  {
   "cell_type": "code",
   "execution_count": 9,
   "metadata": {},
   "outputs": [
    {
     "name": "stdout",
     "output_type": "stream",
     "text": [
      "ok\n"
     ]
    }
   ],
   "source": [
    "x = 5\n",
    "y = 6\n",
    "if x < y:\n",
    "    print('ok')\n",
    "else:\n",
    "    print('not-ok')"
   ]
  },
  {
   "cell_type": "code",
   "execution_count": 11,
   "metadata": {},
   "outputs": [
    {
     "name": "stdout",
     "output_type": "stream",
     "text": [
      "60\n",
      "C\n"
     ]
    }
   ],
   "source": [
    "x = int(input())\n",
    "if x >= 80:\n",
    "    print('A')\n",
    "elif x >= 70:\n",
    "    print('B')\n",
    "elif x >=60:\n",
    "    print('C')\n",
    "elif x >=50:\n",
    "    print('D')\n",
    "else:\n",
    "    print('E')\n"
   ]
  },
  {
   "cell_type": "code",
   "execution_count": 12,
   "metadata": {},
   "outputs": [
    {
     "name": "stdout",
     "output_type": "stream",
     "text": [
      "Anggur\n",
      "Jeruk\n",
      "Pisang\n"
     ]
    }
   ],
   "source": [
    "dlist = ['Anggur','Jeruk','Pisang']\n",
    "print(dlist[0])\n",
    "print(dlist[1])\n",
    "print(dlist[2])"
   ]
  },
  {
   "cell_type": "code",
   "execution_count": 13,
   "metadata": {},
   "outputs": [
    {
     "name": "stdout",
     "output_type": "stream",
     "text": [
      "Anggur\n",
      "Jeruk\n",
      "Pisang\n",
      "Anggur\n",
      "Jeruk\n",
      "Pisang\n"
     ]
    }
   ],
   "source": [
    "dlist = ['Anggur','Jeruk','Pisang']\n",
    "print(dlist[0])\n",
    "print(dlist[1])\n",
    "print(dlist[2])\n",
    "for x in dlist:\n",
    "    print(x)"
   ]
  },
  {
   "cell_type": "code",
   "execution_count": 15,
   "metadata": {},
   "outputs": [
    {
     "name": "stdout",
     "output_type": "stream",
     "text": [
      "(1, 2, 3)\n",
      "(4, 5, 6)\n"
     ]
    }
   ],
   "source": [
    "xair = [(1,2,3),(4,5,6)]\n",
    "print (xair[0])\n",
    "print (xair[1])"
   ]
  },
  {
   "cell_type": "code",
   "execution_count": 21,
   "metadata": {},
   "outputs": [
    {
     "name": "stdout",
     "output_type": "stream",
     "text": [
      "((1, 2, 3), (4, 5, 6))\n",
      "((7, 8, 9), (10, 11, 12))\n"
     ]
    }
   ],
   "source": [
    "xa = [((1,2,3), (4,5,6)), ((7,8,9), (10,11,12))]\n",
    "print (xa[0])\n",
    "print (xa[1])"
   ]
  },
  {
   "cell_type": "code",
   "execution_count": 23,
   "metadata": {},
   "outputs": [
    {
     "name": "stdout",
     "output_type": "stream",
     "text": [
      "(4, 5, 6)\n"
     ]
    }
   ],
   "source": [
    "xa = [((1,2,3), (4,5,6)), ((7,8,9), (10,11,12))]\n",
    "print (xa[0][1])"
   ]
  },
  {
   "cell_type": "code",
   "execution_count": null,
   "metadata": {},
   "outputs": [],
   "source": []
  }
 ],
 "metadata": {
  "kernelspec": {
   "display_name": "Python 3",
   "language": "python",
   "name": "python3"
  },
  "language_info": {
   "codemirror_mode": {
    "name": "ipython",
    "version": 3
   },
   "file_extension": ".py",
   "mimetype": "text/x-python",
   "name": "python",
   "nbconvert_exporter": "python",
   "pygments_lexer": "ipython3",
   "version": "3.8.5"
  }
 },
 "nbformat": 4,
 "nbformat_minor": 2
}
